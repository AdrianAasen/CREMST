{
 "cells": [
  {
   "cell_type": "code",
   "execution_count": 1,
   "metadata": {},
   "outputs": [],
   "source": [
    "import numpy as np\n",
    "import scipy as sp\n",
    "import scipy.io\n",
    "from scipy.stats import unitary_group\n",
    "from datetime import datetime\n",
    "import matplotlib.pyplot as plt\n",
    "import qutip as qt\n",
    "#from scipy.optimize import curve_fit\n",
    "import os\n",
    "import uuid\n",
    "from itertools import repeat, chain, product, combinations\n",
    "from joblib import Parallel, delayed\n",
    "import glob\n",
    "import time\n",
    "from EMQST_lib import support_functions as sf\n",
    "from EMQST_lib import emqst\n",
    "from EMQST_lib.qst import QST  \n",
    "from EMQST_lib.povm import POVM\n",
    "from EMQST_lib import dt\n",
    "from EMQST_lib import measurement_functions as mf\n",
    "from EMQST_lib import visualization as vis\n",
    "from EMQST_lib import overlapping_tomography as ot\n",
    "from EMQST_lib import photon as ph\n",
    "from functools import reduce\n",
    "from cvxopt import matrix, solvers\n",
    "%load_ext autoreload\n",
    "%autoreload 2\n",
    "np.set_printoptions(precision=2)"
   ]
  },
  {
   "cell_type": "markdown",
   "metadata": {},
   "source": [
    "Comparing integrated coincidence counts to the background counts, counts on each beam line before before integration starts"
   ]
  },
  {
   "cell_type": "code",
   "execution_count": 33,
   "metadata": {},
   "outputs": [
    {
     "name": "stdout",
     "output_type": "stream",
     "text": [
      "['Photon_REM/photonic QREM experimental data v3/13 HVVH with lens/HVVH_lens.mat']\n",
      "['Photon_REM/photonic QREM experimental data v3-singles/13 HVVH with lens/HVVH_lens_singles.mat']\n",
      "['Photon_REM/photonic QREM experimental data v3-singles/14 HVVH no lens final check/HVVH_singles.mat']\n",
      "[['__header__', '__version__', '__globals__', 'HVVH_lens', 'HVVH_lens_coinc', 'HVVH_lens_coincAcc', 'HVVH_lens_coincRaw']]\n",
      "HH [1208] [734.05] [11826  9076] [11997 23234]\n",
      "HV [44567] [1178.65] [11971  8928] [11892 20999]\n",
      "VV [1029] [594.05] [9583 8713] [ 9352 21171]\n",
      "VH [15002] [705.68] [9356 8789] [ 9442 22993]\n",
      "RH [8811] [743.51] [10446  8804] [10662 22810]\n",
      "RV [23029] [883.51] [10546  8910] [10673 20990]\n",
      "DV [23426] [893.92] [10597  8782] [10527 20616]\n",
      "DH [8489] [743.51] [10520  8758] [10531 23034]\n",
      "DR [24248] [891.08] [10641  8806] [10446 21228]\n",
      "DD [25508] [947.84] [10530  8560] [10593 21789]\n",
      "RD [8598] [753.92] [10688  8673] [10843 21704]\n",
      "HD [22071] [920.41] [11750  8826] [11804 21711]\n",
      "VD [9303] [665.] [9503 8799] [ 9378 21648]\n",
      "VL [10581] [728.38] [9411 8873] [ 9531 22269]\n",
      "HL [17651] [961.08] [11898  8817] [11721 22000]\n",
      "RL [4829] [719.86] [10849  8827] [10621 22052]\n"
     ]
    }
   ],
   "source": [
    "is_math_file = True\n",
    "if is_math_file:\n",
    "    \n",
    "    path  = \"Photon_REM/photonic QREM experimental data v3/13 HVVH with lens/HVVH_lens.mat\"\n",
    "    compare_path_lens = \"Photon_REM/photonic QREM experimental data v3-singles/13 HVVH with lens/HVVH_lens_singles.mat\"\n",
    "    compare_path_no_lens = \"Photon_REM/photonic QREM experimental data v3-singles/14 HVVH no lens final check/HVVH_singles.mat\"\n",
    "    mat_files = glob.glob(path)[::-1] # To get order HVVH, HLVR, HDVA\n",
    "    compare_files = glob.glob(compare_path_lens)[::-1] # To get order HVVH, HLVR, HDVA\n",
    "    compare_files_no_lens = glob.glob(compare_path_no_lens)[::-1] # To get order HVVH, HLVR, HDVA\n",
    "    print(mat_files)\n",
    "    print(compare_files)\n",
    "    print(compare_files_no_lens)\n",
    "    #mat_files = [glob.glob(p + \"/*.mat\")[0] for p in paths]\n",
    "\n",
    "    # Load from math files\n",
    "    QST_dic = [sp.io.loadmat(f) for f in mat_files]\n",
    "    #print(QST_dic[0]['HVVH_lens_coincRaw'])\n",
    "    #print(QST_coinc_count_dic)\n",
    "    QST_coinc_keys = [list(mat.keys()) for mat in QST_dic]\n",
    "    print(QST_coinc_keys)\n",
    "    # QST_calib_keys = [list(mat.keys())[3] for mat in QST_dic]\n",
    "    # #print(QST_coinc_keys)\n",
    "    # QST_coinc_counts = np.array([mat[key].T[0] for mat, key in zip(QST_dic, QST_coinc_keys)])\n",
    "    \n",
    "    compare_dic = [sp.io.loadmat(f) for f in compare_files]\n",
    "    compare_path_no_lens = [sp.io.loadmat(f) for f in compare_files_no_lens]\n",
    "    #print(compare_dic[0][\"HVVH_lens_singles\"])\n",
    "    # compare_QST_coinc_keys = [list(mat.keys())[6] for mat in compare_dic]\n",
    "    # compare_QST_calib_keys = [list(mat.keys())[3] for mat in compare_dic]\n",
    "    # compare_QST_coinc_counts = np.array([mat[key].T[0] for mat, key in zip(compare_dic, compare_QST_coinc_keys)])\n",
    "\n",
    "coincidene_order_QST = ['HH', 'HV', 'VV', 'VH',\n",
    "                        'RH', 'RV', 'DV', 'DH',\n",
    "                        'DR', 'DD', 'RD', 'HD',\n",
    "                        'VD', 'VL', 'HL', 'RL']\n",
    "\n",
    "for i in range(len(coincidene_order_QST)):\n",
    "    print(coincidene_order_QST[i], QST_dic[0]['HVVH_lens_coincRaw'][i] ,QST_dic[0]['HVVH_lens_coincAcc'][i] , compare_dic[0][\"HVVH_lens_singles\"][i], compare_path_no_lens[0][\"HVVH_singles\"][i])\n",
    "\n"
   ]
  }
 ],
 "metadata": {
  "kernelspec": {
   "display_name": ".work_win_venv",
   "language": "python",
   "name": "python3"
  },
  "language_info": {
   "codemirror_mode": {
    "name": "ipython",
    "version": 3
   },
   "file_extension": ".py",
   "mimetype": "text/x-python",
   "name": "python",
   "nbconvert_exporter": "python",
   "pygments_lexer": "ipython3",
   "version": "3.12.0"
  }
 },
 "nbformat": 4,
 "nbformat_minor": 2
}
