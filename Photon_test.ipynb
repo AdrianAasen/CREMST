{
 "cells": [
  {
   "cell_type": "code",
   "execution_count": 3,
   "metadata": {},
   "outputs": [],
   "source": [
    "import numpy as np\n",
    "import scipy as sp\n",
    "import scipy.io\n",
    "from scipy.stats import unitary_group\n",
    "from datetime import datetime\n",
    "import matplotlib.pyplot as plt\n",
    "import qutip as qt\n",
    "#from scipy.optimize import curve_fit\n",
    "import os\n",
    "import uuid\n",
    "from itertools import repeat, chain, product, combinations\n",
    "from joblib import Parallel, delayed\n",
    "import glob\n",
    "import time\n",
    "from EMQST_lib import support_functions as sf\n",
    "from EMQST_lib import emqst\n",
    "from EMQST_lib.qst import QST  \n",
    "from EMQST_lib.povm import POVM\n",
    "from EMQST_lib import dt\n",
    "from EMQST_lib import measurement_functions as mf\n",
    "from EMQST_lib import visualization as vis\n",
    "from EMQST_lib import overlapping_tomography as ot\n",
    "from EMQST_lib import photon as ph\n",
    "from functools import reduce\n",
    "from cvxopt import matrix, solvers\n",
    "%load_ext autoreload\n",
    "%autoreload 2\n",
    "np.set_printoptions(precision=2)"
   ]
  },
  {
   "cell_type": "markdown",
   "metadata": {},
   "source": [
    "Comparing integrated coincidence counts to the background counts, counts on each beam line before before integration starts"
   ]
  },
  {
   "cell_type": "code",
   "execution_count": 9,
   "metadata": {},
   "outputs": [
    {
     "name": "stdout",
     "output_type": "stream",
     "text": [
      "['Photon_REM/photonic QREM experimental data v3/13 HVVH with lens/HVVH_lens.mat']\n",
      "['Photon_REM/photonic QREM experimental data v3-singles/11 HLVR with lens/HLVR_lens_singles.mat']\n",
      "['Photon_REM/photonic QREM experimental data v3-singles/02 HLVR no lens/HLVR_singles.mat']\n",
      "[['__header__', '__version__', '__globals__', 'HVVH_lens', 'HVVH_lens_coinc', 'HVVH_lens_coincAcc', 'HVVH_lens_coincRaw']]\n",
      "HH [11889  8373] [11521 21216]\n",
      "HV [11938  8519] [11638 20958]\n",
      "VV [9546 8391] [ 8996 20962]\n",
      "VH [9373 8364] [ 9105 21358]\n",
      "RH [10674  8440] [10226 21264]\n",
      "RV [10671  8337] [10317 21031]\n",
      "DV [10409  8494] [10126 21002]\n",
      "DH [10447  8699] [10095 21640]\n",
      "DR [10498  8123] [10120 20620]\n",
      "DD [10392  8290] [10223 20939]\n",
      "RD [10622  8474] [10492 20993]\n",
      "HD [12047  8298] [11438 21126]\n",
      "VD [9446 8378] [ 8984 20913]\n",
      "VL [9369 8293] [ 9065 20976]\n",
      "HL [11674  8493] [11493 21064]\n",
      "RL [10596  8571] [10088 21260]\n"
     ]
    }
   ],
   "source": [
    "is_math_file = True\n",
    "if is_math_file:\n",
    "    \n",
    "    path  = \"Photon_REM/photonic QREM experimental data v3/13 HVVH with lens/HVVH_lens.mat\"\n",
    "    compare_path_lens = \"Photon_REM/photonic QREM experimental data v3-singles/11 HLVR with lens/HLVR_lens_singles.mat\"\n",
    "    compare_path_no_lens = \"Photon_REM/photonic QREM experimental data v3-singles/02 HLVR no lens/HLVR_singles.mat\"\n",
    "    mat_files = glob.glob(path)[::-1] # To get order HVVH, HLVR, HDVA\n",
    "    compare_files = glob.glob(compare_path_lens)[::-1] # To get order HVVH, HLVR, HDVA\n",
    "    compare_files_no_lens = glob.glob(compare_path_no_lens)[::-1] # To get order HVVH, HLVR, HDVA\n",
    "    print(mat_files)\n",
    "    print(compare_files)\n",
    "    print(compare_files_no_lens)\n",
    "    #mat_files = [glob.glob(p + \"/*.mat\")[0] for p in paths]\n",
    "\n",
    "    # Load from math files\n",
    "    QST_dic = [sp.io.loadmat(f) for f in mat_files]\n",
    "    #print(QST_dic[0]['HVVH_lens_coincRaw'])\n",
    "    #print(QST_coinc_count_dic)\n",
    "    QST_coinc_keys = [list(mat.keys()) for mat in QST_dic]\n",
    "    print(QST_coinc_keys)\n",
    "    # QST_calib_keys = [list(mat.keys())[3] for mat in QST_dic]\n",
    "    # #print(QST_coinc_keys)\n",
    "    # QST_coinc_counts = np.array([mat[key].T[0] for mat, key in zip(QST_dic, QST_coinc_keys)])\n",
    "    \n",
    "    compare_dic = [sp.io.loadmat(f) for f in compare_files]\n",
    "    compare_path_no_lens = [sp.io.loadmat(f) for f in compare_files_no_lens]\n",
    "    #print(compare_dic[0][\"HVVH_lens_singles\"])\n",
    "    # compare_QST_coinc_keys = [list(mat.keys())[6] for mat in compare_dic]\n",
    "    # compare_QST_calib_keys = [list(mat.keys())[3] for mat in compare_dic]\n",
    "    # compare_QST_coinc_counts = np.array([mat[key].T[0] for mat, key in zip(compare_dic, compare_QST_coinc_keys)])\n",
    "\n",
    "coincidene_order_QST = ['HH', 'HV', 'VV', 'VH',\n",
    "                        'RH', 'RV', 'DV', 'DH',\n",
    "                        'DR', 'DD', 'RD', 'HD',\n",
    "                        'VD', 'VL', 'HL', 'RL']\n",
    "\n",
    "for i in range(len(coincidene_order_QST)):\n",
    "    print(coincidene_order_QST[i],compare_dic[0][\"HLVR_lens_singles\"][i], compare_path_no_lens[0][\"HLVR_singles\"][i])\n",
    "\n"
   ]
  }
 ],
 "metadata": {
  "kernelspec": {
   "display_name": ".work_win_venv",
   "language": "python",
   "name": "python3"
  },
  "language_info": {
   "codemirror_mode": {
    "name": "ipython",
    "version": 3
   },
   "file_extension": ".py",
   "mimetype": "text/x-python",
   "name": "python",
   "nbconvert_exporter": "python",
   "pygments_lexer": "ipython3",
   "version": "3.12.0"
  }
 },
 "nbformat": 4,
 "nbformat_minor": 2
}
