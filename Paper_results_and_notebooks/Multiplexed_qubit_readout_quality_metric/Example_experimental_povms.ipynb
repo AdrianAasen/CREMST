{
 "cells": [
  {
   "cell_type": "markdown",
   "id": "b048291f",
   "metadata": {},
   "source": [
    "Here we give an explicite example how to load in the experimental POVMs used in both works [2] and [3]."
   ]
  },
  {
   "cell_type": "code",
   "execution_count": null,
   "id": "66951fe4",
   "metadata": {},
   "outputs": [],
   "source": [
    "import numpy as np"
   ]
  },
  {
   "cell_type": "code",
   "execution_count": null,
   "id": "f256b601",
   "metadata": {},
   "outputs": [
    {
     "name": "stdout",
     "output_type": "stream",
     "text": [
      "The available keys are: dict_keys(['numpy_POVM_list'])\n",
      "[array([[[ 0.50300005+2.19654850e-17j,  0.46633696+4.69077172e-02j],\n",
      "        [ 0.46633696-4.69077172e-02j,  0.49870002+3.77174507e-18j]],\n",
      "\n",
      "       [[ 0.49699998-6.86022572e-18j, -0.46633688-4.69077408e-02j],\n",
      "        [-0.46633688+4.69077408e-02j,  0.50129995-1.13082455e-18j]]]), array([[[ 0.49469994-3.15923933e-18j,  0.04691653-4.61300148e-01j],\n",
      "        [ 0.04691653+4.61300148e-01j,  0.50260003-1.05780684e-19j]],\n",
      "\n",
      "       [[ 0.50529998-1.39612206e-17j, -0.04691653+4.61300167e-01j],\n",
      "        [-0.04691653-4.61300167e-01j,  0.49740006-4.79918776e-18j]]]), array([[[ 0.9692    -1.22074733e-20j, -0.00399515+5.32764219e-03j],\n",
      "        [-0.00399515-5.32764219e-03j,  0.03975   -2.36255772e-20j]],\n",
      "\n",
      "       [[ 0.0308    -1.09092521e-21j,  0.00399516-5.32763801e-03j],\n",
      "        [ 0.00399516+5.32763801e-03j,  0.96025001-1.67786802e-21j]]])]\n",
      "The available keys are: dict_keys(['numpy_POVM_list'])\n"
     ]
    }
   ],
   "source": [
    "# Define the path to one of the experimeents under Example_povm_data. \n",
    "example_path = \"Example_povm_data/Extracted/1_qubit/q0/2024-10-13_09-15-44_a859b1ef-dcdd-43d8-8904-ff4dcae1850c/\"\n",
    "\n",
    "results = np.load(example_path+\"DT_results.npy\", allow_pickle=True).item()\n",
    "\n",
    "print(f'The available keys are: {results.keys()}')\n",
    "\n",
    "# Extract POVM elements\n",
    "\n",
    "povm_elements = results[\"numpy_POVM_list\"]\n",
    "print(povm_elements)\n",
    "\n",
    "# There are 3 povms in the list, which correspond to x- y- and z-basis measurements.\n",
    "\n",
    "# Similar for multi-qubit POVMs\n",
    "\n",
    "example_path_4_qubit = \"Example_povm_data/Extracted/4_qubit/q0q1q2q3/2024-10-11_07-49-26_69f895b1-b0d3-4df6-9cc9-14ea3f4b4169/\"\n",
    "results_4_qubit = np.load(example_path_4_qubit+\"DT_results.npy\", allow_pickle=True).item()\n",
    "\n",
    "# Extract POVM elements\n",
    "povm_elements_4_qubit = results_4_qubit[\"numpy_POVM_list\"]\n",
    "#print(povm_elements_4_qubit)\n",
    "\n",
    "# There are 3 povms in the list, which correspond to x- y- and z-basis measurements.\n"
   ]
  }
 ],
 "metadata": {
  "kernelspec": {
   "display_name": ".work_win_venv (3.12.0)",
   "language": "python",
   "name": "python3"
  },
  "language_info": {
   "codemirror_mode": {
    "name": "ipython",
    "version": 3
   },
   "file_extension": ".py",
   "mimetype": "text/x-python",
   "name": "python",
   "nbconvert_exporter": "python",
   "pygments_lexer": "ipython3",
   "version": "3.12.0"
  }
 },
 "nbformat": 4,
 "nbformat_minor": 5
}
